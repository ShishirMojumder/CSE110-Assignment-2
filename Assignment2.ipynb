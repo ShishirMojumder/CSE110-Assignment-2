{
 "cells": [
  {
   "cell_type": "code",
   "execution_count": 13,
   "metadata": {},
   "outputs": [
    {
     "name": "stdout",
     "output_type": "stream",
     "text": [
      "18,-27,36,-45,54,-63,"
     ]
    }
   ],
   "source": [
    "# Task01\n",
    "counter = 18 \n",
    "\n",
    "while counter <= 63 :\n",
    "    if (counter%2!=0):\n",
    "        print(counter*-1,end=\",\")\n",
    "    else:\n",
    "        print(counter,end=\",\")\n",
    "    counter = counter + 9"
   ]
  },
  {
   "cell_type": "code",
   "execution_count": 16,
   "metadata": {},
   "outputs": [
    {
     "name": "stdout",
     "output_type": "stream",
     "text": [
      "t\n",
      "t\n",
      "t\n",
      "t\n"
     ]
    }
   ],
   "source": [
    "# Task02\n",
    "car_name = input(\"Please Enter the name of your favourite car: \")\n",
    "number = int(input(\"Please Enter a number: \"))\n",
    "\n",
    "counter = 1\n",
    "\n",
    "while (counter <= number):\n",
    "    print(car_name)\n",
    "    counter += 1"
   ]
  },
  {
   "cell_type": "code",
   "execution_count": 27,
   "metadata": {},
   "outputs": [
    {
     "name": "stdout",
     "output_type": "stream",
     "text": [
      "2835\n"
     ]
    }
   ],
   "source": [
    "# task03\n",
    "sum = 0\n",
    "counter = 0 \n",
    "\n",
    "while counter<=600:\n",
    "    counter+=1\n",
    "    if (counter % 7 == 0 and counter %9 == 0):\n",
    "        sum = sum + counter\n",
    "    elif(counter == 600):\n",
    "        print(sum)\n",
    "    "
   ]
  },
  {
   "cell_type": "code",
   "execution_count": 34,
   "metadata": {},
   "outputs": [
    {
     "name": "stdout",
     "output_type": "stream",
     "text": [
      "39814\n"
     ]
    }
   ],
   "source": [
    "# task4\n",
    "sum = 0 \n",
    "counter = 0 \n",
    "\n",
    "while counter <= 600:\n",
    "    counter+=1\n",
    "    \n",
    "    if(counter % 7==0 or counter %9 == 0) and not (counter % 7==0 and counter %9 == 0):\n",
    "        sum= sum+ counter\n",
    "    if(counter == 600):\n",
    "        print(sum)"
   ]
  },
  {
   "cell_type": "code",
   "execution_count": 71,
   "metadata": {},
   "outputs": [
    {
     "name": "stdout",
     "output_type": "stream",
     "text": [
      "11 13 15 17 19 21 23 25 27 29 31 33 35 37 39 41 43 45 47 49 "
     ]
    }
   ],
   "source": [
    "# task5\n",
    "counter = 10\n",
    "\n",
    "while counter<=50:\n",
    "    # counter+=1\n",
    "    if(counter%2 != 0):\n",
    "        print(counter,end = \" \")\n",
    "    counter+=1"
   ]
  },
  {
   "cell_type": "code",
   "execution_count": 82,
   "metadata": {},
   "outputs": [
    {
     "name": "stdout",
     "output_type": "stream",
     "text": [
      "-55\n"
     ]
    }
   ],
   "source": [
    "#task6\n",
    "sum = 0\n",
    "n = int(input(\"Enter your number: \"))\n",
    "\n",
    "for i in range(1,n+1):\n",
    "    if (i % 2 != 0):\n",
    "        i= i**2\n",
    "    else:\n",
    "        i = (i ** 2) * -1\n",
    "    sum = sum+i\n",
    "print(sum)\n",
    "    "
   ]
  },
  {
   "cell_type": "code",
   "execution_count": 1,
   "metadata": {},
   "outputs": [
    {
     "name": "stdout",
     "output_type": "stream",
     "text": [
      "Total is  32 and Average is  5.333333333333333\n"
     ]
    }
   ],
   "source": [
    "# task7\n",
    "total=0 \n",
    "count=0 \n",
    "\n",
    "for i in range(0, 10):\n",
    "    num = int(input())\n",
    "    if(num % 2 != 0):\n",
    "        total = total+ num \n",
    "        count += 1 \n",
    "\n",
    "average = total / count\n",
    "print(\"Total is \", total , \"and Average is \", average)"
   ]
  },
  {
   "cell_type": "code",
   "execution_count": 35,
   "metadata": {},
   "outputs": [
    {
     "name": "stdout",
     "output_type": "stream",
     "text": [
      "385\n"
     ]
    }
   ],
   "source": [
    "#task 8 \n",
    "sum = 0\n",
    "# count = 0 \n",
    "n = int(input(\"Enter any number: \"))\n",
    "\n",
    "for i in range(0,n+1):\n",
    "    if(i % 7 == 0):\n",
    "        sum = sum+i\n",
    "        # count = count+1\n",
    "print(sum)\n",
    "\n",
    "# \"print(count) jodi amra jante chai 0 to 50 er moddhe kotogula 7 er gunitok ache then amra\n",
    "# # count print korbo\n",
    "        "
   ]
  },
  {
   "cell_type": "code",
   "execution_count": 38,
   "metadata": {},
   "outputs": [
    {
     "name": "stdout",
     "output_type": "stream",
     "text": [
      "Summation of previous two numbers:  4 Summation of previous two numbers:  6 Summation of previous two numbers:  9 Summation of previous two numbers:  11 Summation of previous two numbers:  17 "
     ]
    }
   ],
   "source": [
    "# task 9\n",
    "sum = 0\n",
    "count = 0\n",
    "for i in range(0,5):\n",
    "    x = int(input(\"\\nEnter your numbers: \"))\n",
    "    sum = sum + x\n",
    "    print(\"Summation of previous two numbers: \",sum,end= \" \")\n"
   ]
  },
  {
   "cell_type": "code",
   "execution_count": 48,
   "metadata": {},
   "outputs": [
    {
     "name": "stdout",
     "output_type": "stream",
     "text": [
      "8, 7, 6, 5\n"
     ]
    }
   ],
   "source": [
    "# task10\n",
    "user_input = int(input(\"Sir, please input a number: \"))\n",
    "\n",
    "while True :\n",
    "\n",
    "    if user_input < 10:\n",
    "        print(user_input)\n",
    "        break\n",
    "    \n",
    "    print(user_input % 10, end=', ') \n",
    "    user_input = user_input // 10"
   ]
  },
  {
   "cell_type": "code",
   "execution_count": 50,
   "metadata": {},
   "outputs": [
    {
     "name": "stdout",
     "output_type": "stream",
     "text": [
      "4\n"
     ]
    }
   ],
   "source": [
    "# task11\n",
    "user_input = int(input(\"Sir, please input a number: \"))\n",
    "digit_counter = 0\n",
    "while True :\n",
    "\n",
    "    if user_input < 10:\n",
    "        \n",
    "        digit_counter+=1\n",
    "        break\n",
    "    \n",
    "\n",
    "    digit_counter+=1\n",
    "    user_input = user_input // 10\n",
    "print(\"Total digits are\", digit_counter)"
   ]
  },
  {
   "cell_type": "code",
   "execution_count": 52,
   "metadata": {},
   "outputs": [
    {
     "name": "stdout",
     "output_type": "stream",
     "text": [
      "1,2,3,6,9,18,27,54\n",
      "Total 8 divisors.\n"
     ]
    }
   ],
   "source": [
    "# task13\n",
    "number = int(input())\n",
    "# str_number = str(number)\n",
    "counter = 0\n",
    "\n",
    "for div in range(1, number + 1):\n",
    "    if(number % div == 0):\n",
    "        if(div == number):\n",
    "            print(div, end = \"\")\n",
    "        else:\n",
    "            print(div, end = \",\")\n",
    "        counter += 1\n",
    "print(\"\\nTotal\",counter, \"divisors.\")"
   ]
  },
  {
   "cell_type": "code",
   "execution_count": null,
   "metadata": {},
   "outputs": [],
   "source": [
    "# task 14\n",
    "sum = 0\n",
    "number = int(input())\n",
    "\n",
    "for div in range(1, number + 1):\n",
    "    if(number % div == 0 and number != div):\n",
    "        sum += div\n",
    "    \n",
    "if(sum == number):\n",
    "    print(number,\"is a perfect number\")\n",
    "else:\n",
    "    print(number,\"is not a perfect number\")"
   ]
  },
  {
   "cell_type": "code",
   "execution_count": 53,
   "metadata": {},
   "outputs": [
    {
     "name": "stdout",
     "output_type": "stream",
     "text": [
      "34 is not a prime number\n"
     ]
    }
   ],
   "source": [
    "# task15\n",
    "number = int(input())\n",
    "\n",
    "if(number > 1):\n",
    "    for div in range(2, number):\n",
    "        if(number % div == 0):\n",
    "            print(number,\"is not a prime number\")\n",
    "            break\n",
    "        else:\n",
    "            print(number,\"is a prime number\")\n",
    "            break\n",
    "else:\n",
    "    (number,\"is not a prime number\")"
   ]
  },
  {
   "cell_type": "code",
   "execution_count": null,
   "metadata": {},
   "outputs": [],
   "source": [
    "# task16\n",
    "quantity = int(input())\n",
    "max = 0\n",
    "min = 0\n",
    "total = 0\n",
    "count = 0\n",
    "\n",
    "for i in range(0, quantity):\n",
    "    num = int(input())\n",
    "    total += num\n",
    "    count += 1\n",
    "    if(num > max):\n",
    "        max = num\n",
    "    elif(num < min):\n",
    "        min = num\n",
    "\n",
    "print(\"Maximum\" ,max)\n",
    "print(\"Minimum\" ,min)\n",
    "print(\"Average is\",total / count)"
   ]
  },
  {
   "cell_type": "code",
   "execution_count": 54,
   "metadata": {},
   "outputs": [
    {
     "name": "stdout",
     "output_type": "stream",
     "text": [
      "+++++\n",
      "+++++\n",
      "+++++\n",
      "+++++\n",
      "+++++\n"
     ]
    }
   ],
   "source": [
    "# task17\n",
    "N = int(input())\n",
    "\n",
    "for out_counter in range(N):\n",
    "    for in_counter in range(N):\n",
    "        print(\"+\", end=\"\")\n",
    "    print()"
   ]
  },
  {
   "cell_type": "code",
   "execution_count": null,
   "metadata": {},
   "outputs": [],
   "source": [
    "# task18\n",
    "number_of_rows = int(input(\"Sir, please enter how many rows you want: \"))\n",
    "number_of_column = int(input(\"Sir, please enter how many column you want: \"))\n",
    "\n",
    "for rows in range(1, number_of_rows+1):\n",
    "    for columns in range(1, number_of_column+1):\n",
    "        print(columns, end=\"\")\n",
    "    print()"
   ]
  },
  {
   "cell_type": "code",
   "execution_count": null,
   "metadata": {},
   "outputs": [],
   "source": [
    "# task19\n",
    "number = int(input())\n",
    "\n",
    "for out_counter in range(1, number + 1):\n",
    "    for in_counter in range(1, out_counter+1):\n",
    "        print(in_counter, end=\"\")\n",
    "    print()"
   ]
  }
 ],
 "metadata": {
  "kernelspec": {
   "display_name": "Python 3.10.4 64-bit",
   "language": "python",
   "name": "python3"
  },
  "language_info": {
   "codemirror_mode": {
    "name": "ipython",
    "version": 3
   },
   "file_extension": ".py",
   "mimetype": "text/x-python",
   "name": "python",
   "nbconvert_exporter": "python",
   "pygments_lexer": "ipython3",
   "version": "3.10.4"
  },
  "orig_nbformat": 4,
  "vscode": {
   "interpreter": {
    "hash": "afb734500600fd355917ca529030176ea0ca205570884b88f2f6f7d791fd3fbe"
   }
  }
 },
 "nbformat": 4,
 "nbformat_minor": 2
}
